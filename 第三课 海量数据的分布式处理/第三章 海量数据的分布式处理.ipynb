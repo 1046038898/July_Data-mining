{
 "cells": [
  {
   "cell_type": "markdown",
   "metadata": {},
   "source": [
    "Map-Reduce是一种思维方式\n",
    "* 必须要有输入和输出文件"
   ]
  },
  {
   "cell_type": "markdown",
   "metadata": {},
   "source": [
    "### Map.py"
   ]
  },
  {
   "cell_type": "code",
   "execution_count": 3,
   "metadata": {},
   "outputs": [
    {
     "name": "stdout",
     "output_type": "stream",
     "text": [
      "a\n",
      "b\n",
      "c\n",
      "d\n",
      "\n",
      "d\n",
      "b\n",
      "b\n",
      "c\n",
      "\n",
      "a\n",
      "c\n",
      "\n",
      "e\n",
      "f\n",
      "b\n"
     ]
    }
   ],
   "source": [
    "doc= open(\"doc.txt\",\"r\")   #设置文件对象\n",
    "for line in doc:\n",
    "    terms = line.strip().split(\" \")\n",
    "    for i in terms:\n",
    "        print(i)"
   ]
  },
  {
   "cell_type": "markdown",
   "metadata": {},
   "source": [
    "### Map2.py"
   ]
  },
  {
   "cell_type": "code",
   "execution_count": 2,
   "metadata": {},
   "outputs": [
    {
     "name": "stdout",
     "output_type": "stream",
     "text": [
      "a 1\n",
      "b 1\n",
      "c 1\n",
      "d 1\n",
      " 1\n",
      "d 1\n",
      "b 2\n",
      "c 1\n",
      " 1\n",
      "a 1\n",
      "c 1\n",
      " 1\n",
      "e 1\n",
      "f 1\n",
      "b 1\n"
     ]
    }
   ],
   "source": [
    "doc= open(\"doc.txt\",\"r\")   #设置文件对象\n",
    "for line in doc:\n",
    "    terms = line.strip().split(\" \")\n",
    "    #print(terms)\n",
    "    wdict = {} #添加字典\n",
    "    for i in terms:\n",
    "        #print(i)\n",
    "        if i not in wdict:\n",
    "            wdict[i] = 1\n",
    "        else:\n",
    "            wdict[i] += 1\n",
    "    for j in wdict:\n",
    "        print(j, wdict[j])"
   ]
  },
  {
   "cell_type": "markdown",
   "metadata": {},
   "source": [
    "### reduce.py"
   ]
  },
  {
   "cell_type": "code",
   "execution_count": 44,
   "metadata": {},
   "outputs": [
    {
     "name": "stdout",
     "output_type": "stream",
     "text": [
      "a 1\n",
      "d 1\n",
      "a 1\n",
      "e 1\n"
     ]
    }
   ],
   "source": [
    "\n",
    "doc= open(\"doc.txt\",\"r\")   #设置文件对象\n",
    "old_key = \"\"\n",
    "count = 0\n",
    "for line in doc:\n",
    "    terms = line.strip().split(\" \")\n",
    "    #print(terms)\n",
    "    key = terms[0]#每一行的第一个字母\n",
    "    #print(key)\n",
    "    if key != old_key:\n",
    "        if old_key:\n",
    "            print(old_key, count)\n",
    "            count = 0\n",
    "    old_key = key\n",
    "    count += 1\n",
    "if old_key:\n",
    "    print(old_key, count)\n",
    "    count = 0"
   ]
  },
  {
   "cell_type": "markdown",
   "metadata": {},
   "source": [
    "### reduce2.py"
   ]
  },
  {
   "cell_type": "code",
   "execution_count": 46,
   "metadata": {},
   "outputs": [
    {
     "ename": "ValueError",
     "evalue": "invalid literal for int() with base 10: 'b'",
     "output_type": "error",
     "traceback": [
      "\u001b[1;31m---------------------------------------------------------------------------\u001b[0m",
      "\u001b[1;31mValueError\u001b[0m                                Traceback (most recent call last)",
      "\u001b[1;32m<ipython-input-46-2726bd1bafdd>\u001b[0m in \u001b[0;36m<module>\u001b[1;34m()\u001b[0m\n\u001b[0;32m      5\u001b[0m     \u001b[0mterms\u001b[0m \u001b[1;33m=\u001b[0m \u001b[0mline\u001b[0m\u001b[1;33m.\u001b[0m\u001b[0mstrip\u001b[0m\u001b[1;33m(\u001b[0m\u001b[1;33m)\u001b[0m\u001b[1;33m.\u001b[0m\u001b[0msplit\u001b[0m\u001b[1;33m(\u001b[0m\u001b[1;34m\" \"\u001b[0m\u001b[1;33m)\u001b[0m\u001b[1;33m\u001b[0m\u001b[1;33m\u001b[0m\u001b[0m\n\u001b[0;32m      6\u001b[0m     \u001b[0mkey\u001b[0m \u001b[1;33m=\u001b[0m \u001b[0mterms\u001b[0m\u001b[1;33m[\u001b[0m\u001b[1;36m0\u001b[0m\u001b[1;33m]\u001b[0m\u001b[1;33m\u001b[0m\u001b[1;33m\u001b[0m\u001b[0m\n\u001b[1;32m----> 7\u001b[1;33m     \u001b[0mvalue\u001b[0m \u001b[1;33m=\u001b[0m \u001b[0mint\u001b[0m\u001b[1;33m(\u001b[0m\u001b[0mterms\u001b[0m\u001b[1;33m[\u001b[0m\u001b[1;36m1\u001b[0m\u001b[1;33m]\u001b[0m\u001b[1;33m)\u001b[0m\u001b[1;33m\u001b[0m\u001b[1;33m\u001b[0m\u001b[0m\n\u001b[0m\u001b[0;32m      8\u001b[0m     \u001b[1;32mif\u001b[0m \u001b[0mkey\u001b[0m \u001b[1;33m!=\u001b[0m \u001b[0mold_key\u001b[0m\u001b[1;33m:\u001b[0m\u001b[1;33m\u001b[0m\u001b[1;33m\u001b[0m\u001b[0m\n\u001b[0;32m      9\u001b[0m         \u001b[1;32mif\u001b[0m \u001b[0mold_key\u001b[0m\u001b[1;33m:\u001b[0m\u001b[1;33m\u001b[0m\u001b[1;33m\u001b[0m\u001b[0m\n",
      "\u001b[1;31mValueError\u001b[0m: invalid literal for int() with base 10: 'b'"
     ]
    }
   ],
   "source": [
    "doc= open(\"doc.txt\",\"r\")   #设置文件对象\n",
    "old_key = \"\"\n",
    "count = 0\n",
    "for line in doc:\n",
    "    terms = line.strip().split(\" \")\n",
    "    key = terms[0]\n",
    "    value = int(terms[1])\n",
    "    if key != old_key:\n",
    "        if old_key:\n",
    "            print(old_key, count)\n",
    "            count = 0\n",
    "    old_key = key\n",
    "    count += value\n",
    "if old_key:\n",
    "    print(old_key, count)\n",
    "    count = 0"
   ]
  },
  {
   "cell_type": "code",
   "execution_count": null,
   "metadata": {},
   "outputs": [],
   "source": []
  }
 ],
 "metadata": {
  "kernelspec": {
   "display_name": "Python 3",
   "language": "python",
   "name": "python3"
  },
  "language_info": {
   "codemirror_mode": {
    "name": "ipython",
    "version": 3
   },
   "file_extension": ".py",
   "mimetype": "text/x-python",
   "name": "python",
   "nbconvert_exporter": "python",
   "pygments_lexer": "ipython3",
   "version": "3.7.2"
  }
 },
 "nbformat": 4,
 "nbformat_minor": 2
}
