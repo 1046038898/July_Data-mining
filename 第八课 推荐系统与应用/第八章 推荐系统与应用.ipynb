{
 "cells": [
  {
   "cell_type": "markdown",
   "metadata": {},
   "source": [
    "目前看来推荐系统是一个比较成体系的方向，并且可以帮助公司盈利\n",
    "\n",
    "目前两种算法：CF（协同过滤）和LFM"
   ]
  },
  {
   "cell_type": "code",
   "execution_count": null,
   "metadata": {},
   "outputs": [],
   "source": []
  },
  {
   "cell_type": "markdown",
   "metadata": {},
   "source": [
    "\n"
   ]
  },
  {
   "cell_type": "markdown",
   "metadata": {},
   "source": [
    "## 主要内容\n"
   ]
  },
  {
   "cell_type": "markdown",
   "metadata": {},
   "source": [
    "#### 互联网需求变更\n",
    "* 1.推荐系统广泛应用\n",
    "* 2.推荐系统需求\n",
    "* 3.推荐系统结构与评估\n",
    "\n",
    "#### 推荐算法初步\n",
    "* 1.**基于内容推荐**\n",
    "* 2 **协同过滤**\n",
    "\n",
    "#### 推荐算法进阶\n",
    "* 1.矩阵分解与隐语义模型\n",
    "\n",
    "#### 推荐系统(单机/pyspark)案例 "
   ]
  },
  {
   "cell_type": "markdown",
   "metadata": {},
   "source": [
    "## 推荐系统之 是什么\n",
    "\n",
    "每天都在有意识无意识地接触 "
   ]
  },
  {
   "cell_type": "markdown",
   "metadata": {},
   "source": [
    "<img src='725_3.png'>"
   ]
  },
  {
   "cell_type": "markdown",
   "metadata": {},
   "source": [
    "**数学定义如下**：\n",
    "\n",
    "设C为全体用户集合\n",
    "\n",
    "设S为全部商品/推荐内容集合\n",
    "\n",
    "设u是评判把$\\mathbf{s}_{i}$推荐$\\mathbf{C}_{\\mathbf{i}}$的好坏评判函数\n",
    "\n",
    "推荐是对于$\\mathbf{c} \\in \\mathbf{C}$，找到$s \\in S$，使得u最大，即\n",
    "$$\n",
    "\\forall c \\in C, s^{\\prime}_{c}=\\operatorname{argmax}(u(c, s)) s \\in S\n",
    "$$\n",
    "\n",
    "**说人话版本**：\n",
    "\n",
    "根据用户的：\n",
    "* 历史行为\n",
    "* 社交关系\n",
    "* 兴趣点\n",
    "* 所处上下文环境\n",
    "*  …\n",
    "\n",
    "去判断用户的当前需求/感兴趣的item "
   ]
  },
  {
   "cell_type": "markdown",
   "metadata": {},
   "source": [
    "## 推荐系统之 为什么"
   ]
  },
  {
   "cell_type": "markdown",
   "metadata": {},
   "source": [
    "**互联网大爆炸 => 信息过载**\n",
    "\n",
    "* 我们\n",
    "  * 一天会看到20mb左右的文字信息\n",
    "  * 会听到600mb左右声音信息\n",
    "  * 每秒看到2mb左右图像信息\n",
    "* 每天有10w左右的新闻报道\n",
    "* 每秒钟优酷土豆爱奇艺搜狐腾讯B站会多出时长几百小时的视频\n",
    "* 淘宝京东亚马逊当当一天上架上百w商品\n",
    "*  … \n",
    "\n",
    "**寻求解决信息过载的思路**\n",
    "\n",
    "* 思路变更\n",
    "  * 分类导航页 => 雅虎\n",
    "  * 搜索引擎 => 谷歌，必应，度娘\n",
    "* But，人总是期望计算机尽量多地服务\n",
    "  * 我们不愿意去想搜索词\n",
    "  * 希望系统自动挖掘自己的兴趣点\n",
    "  * 希望系统能给我们surprise\n",
    "* 今日头条，虾米音乐，电商猜你喜欢，豆瓣… \n",
    "\n",
    "**商家需要推荐系统吗**\n",
    "\n",
    "* Netflix每年2/3的观看电影from推荐\n",
    "* Google news推荐系统能带来额外38%的点击\n",
    "* 亚马逊每年35%的销售额都来源于它的推荐\n",
    "* 头条半数以上新闻和广告点击来源于推荐\n",
    "* 京东一年推荐和广告带来几亿的营收\n",
    "* … \n",
    "\n",
    "**对用户而言**：\n",
    "\n",
    "* 找到好玩的东西\n",
    "* 帮助决策\n",
    "* 发现新鲜事物\n",
    "* …\n",
    "\n",
    "**对商家而言**：\n",
    "* 提供个性化服务，提高信任度和粘性\n",
    "* 增加营收\n",
    "* …"
   ]
  },
  {
   "cell_type": "markdown",
   "metadata": {},
   "source": [
    "## 推荐系统之 系统结构 "
   ]
  },
  {
   "cell_type": "markdown",
   "metadata": {},
   "source": [
    "<img src='725_4.png'>"
   ]
  },
  {
   "cell_type": "markdown",
   "metadata": {},
   "source": [
    "## 推荐系统之 评定标准 "
   ]
  },
  {
   "cell_type": "markdown",
   "metadata": {},
   "source": [
    "**准确度**：\n",
    "* 打分系统\n",
    "\n",
    "设$r_{u i}$为用户u对物品i的实际评分,$\\hat{r}_{u i}$为预测分\n",
    "$$\n",
    "R M S E=\\sqrt{\\frac{\\sum_{u, i \\in T}\\left(r_{u i}-\\hat{r}_{u i}\\right)^{2}}{|T|}}\n",
    "$$\n",
    "$$\n",
    "M A E=\\frac{\\sum_{u, i \\in T}\\left|r_{u i}-\\hat{r}_{u i}\\right|}{|T|}\n",
    "$$\n",
    "\n",
    "* Top N推荐\n",
    "\n",
    "设R(u)为根据训练建立的模型在测试集上的推荐，T(u)为测试集上用户的选择。\n",
    "$$\n",
    "Precision=\\frac{\\sum_{u \\in U}|R(u) \\cap T(u)|}{\\sum_{u \\in U}|R(u)|}\n",
    "$$\n",
    "$$\n",
    "Recall=\\frac{\\sum_{u \\in U}|R(u) \\cap T(u)|}{\\sum_{u \\in U}|T(u)|}\n",
    "$$\n",
    "\n",
    "Precision:推荐了100个商品，有多少个商品是你实际买的或者看过的（80）\n",
    "    \n",
    "Recall：用户实际买了/看过的有80条，这80条里面有多少条是被你找回来的。\n",
    "\n",
    "一个好的推荐系统是让准确率和召回率都能有一个比较好的结果\n",
    "\n",
    "ROC是一个用来评判准确率和召回率的评判标准的曲线\n",
    "\n",
    "**在把准确率提高的基础上，提高召回率**。（主要还是看准确率）\n",
    "\n",
    "**覆盖率**：\n",
    "* 表示对物品长尾的发掘能力（推荐系统希望消除马太效应:强者愈强，弱者愈弱）\n",
    "$$\n",
    "Coverage=\\frac{\\left|\\cup_{u \\in U} R(u)\\right|}{|I|}\n",
    "$$\n",
    "$$\n",
    "H=-\\sum_{i=1}^{n} p(i) \\log p(i)\n",
    "$$\n",
    "\n",
    "**覆盖率(针对平台)**：假设电商有1000W的商品，可每次只推荐20W的商品，这样覆盖度是不够的，尽量多的要把商品推出去，这样用户才会看到，会买。\n",
    "\n",
    "\n",
    "**$I$表示全部的商品**，式子表明所有推荐的商品在全部商品里覆盖率是多少\n",
    "\n",
    "或者从信息论角度定义：\n",
    "\n",
    "总共有1000W商品，每个商品被推荐出去的概率有多高。或者这样理解：被推荐出去的次数/总得次数\n",
    "\n",
    "**目前是兼顾准确率、召回率和覆盖率**\n",
    "\n",
    "**多样性**：\n",
    "* 表示推荐列表中物品两两之间的不相似性。设$s(i, j)$表示物品i和j之间的相似度\n",
    "多样性：\n",
    "\n",
    "这也是一个评判标准，推荐给用户的东西不能都是一样的，种类要丰富。\n",
    "\n",
    "$$\n",
    "DiversityR(u)=1-\\frac{\\sum_{i, j \\in R(u), i \\neq j} s(i, j)}{\\frac{1}{2}|R(u)|(|R(u)|-1)}\n",
    "$$\n",
    "$R(u)$表示推荐的商品,$S(i,j)$表示推荐的物品i和j之间的相似度，分母表示从所有推荐的商品里选择两件的所有情况，这样的话$\\frac{\\sum_{i, j \\in R(u), i \\neq j} s(i, j)}{\\frac{1}{2}|R(u)|(|R(u)|-1)}$标识的就是任意选出的两件商品的相似度，那么$1-\\frac{\\sum_{i, j \\in R(u), i \\neq j} s(i, j)}{\\frac{1}{2}|R(u)|(|R(u)|-1)}$表示的就是任意两件商品之间的多样性\n",
    "\n",
    "还有一些别的评定标准：\n",
    "\n",
    "* 新颖度：给用户surprise(推荐他们不知道的商品)\n",
    "* 惊喜度：推荐和用户历史兴趣不相似，却满意的\n",
    "* 信任度：提供可靠的推荐理由\n",
    "* 实时性：实时更新程度\n",
    "* … "
   ]
  },
  {
   "cell_type": "markdown",
   "metadata": {},
   "source": [
    "## 推荐系统之 NetFlix\n",
    "* 6年时间，48w用户的1亿+打分和评论，17770部电影。\n",
    "* 2700+队伍，准确率提升10%，100w美元奖励。\n",
    "<img src='726_1.png'>"
   ]
  },
  {
   "cell_type": "markdown",
   "metadata": {},
   "source": [
    "## 推荐系统之 经典算法初步 \n",
    "\n",
    "### 基于内容的推荐\n",
    "\n",
    "* 基于内容的推荐\n",
    "  * 基于用户喜欢的item的属性/内容进行推荐\n",
    "  * 需要分析内容，无需考虑其他用户的行为\n",
    "  * 通常使用在文本相关产品上进行推荐\n",
    "  * Item通过内容(比如关键词)关联：\n",
    "    * 电影题材：爱情/探险/动作/喜剧/悬疑\n",
    "    * 标志特征：黄晓明/王宝强…\n",
    "    * 年代：1995，2016…\n",
    "    * 关键词\n",
    "* 基于比对item内容进行推荐\n",
    "\n",
    "\n",
    "* 基于内容的推荐\n",
    "  * 对于每个要推荐的内容，我们需要建立一份资料：\n",
    "    * 比如词kj在文件dj中的权重wij\n",
    "    * 常用的方法比如TF-IDF\n",
    "  * 需要对用户也建立一份资料：\n",
    "    * 比如说定义一个权重向量(wc1,…,wck)\n",
    "    * 其中wci表示第ki个词对用户c的重要度\n",
    "  * 计算匹配度\n",
    "    * 比如用余弦距离公式\n",
    "    $$\n",
    "u(c, s)=\\cos \\left(\\vec{w}_{c}, \\vec{w}_{s}\\right)=\\frac{\\vec{w}_{c} \\cdot \\vec{w}_{s}}{\\left\\|\\vec{w}_{d}\\right\\|_{2} \\times\\left\\|\\vec{w}_{s}\\right\\|_{2}}=\\frac{\\sum_{i=1}^{K} w_{i, c} w_{i, s}}{\\sqrt{\\sum_{i=1}^{K} w_{i, c}^{2}} \\sqrt{\\sum_{i=1}^{K} w_{i, s}^{2}}}\n",
    "$$\n",
    "\n",
    "**基于内容的推荐：你买了文学题材，推荐的书也是文学题材的**\n",
    "\n",
    "**TF-IDF**：用来评估某一个词对当前文档的重要性（前提是去掉停用词）\n",
    "\n",
    "如果某个词在当前文档中出现品率很高，在所有文档中出现频率也很高，表明这个词是一个很常见的词。所以它会随着在当前文档中次数出现越多，重要度越高；会随着在所有文档中次数出现越多，重要度降低。"
   ]
  },
  {
   "cell_type": "markdown",
   "metadata": {},
   "source": [
    "* 小例子\n",
    "  * 基于书名进行书推荐\n",
    "    * 一个用户对《Building data mining applications for CRM 》这本书感兴趣\n",
    "    * 从以下书中进行推荐\n",
    "    \n",
    "Building data mining applications for CRM\n",
    "\n",
    "Accelerating Customer Relationships: Using CRM and Relationship Technologies\n",
    "\n",
    "Mastering Data Mining: The Art and Science of Customer Relationship Management\n",
    "\n",
    "Data Mining Your Website\n",
    "\n",
    "Introduction to marketing\n",
    "\n",
    "Consumer behavior\n",
    "\n",
    "marketing research, a handbook\n",
    "\n",
    "Customer knowledge manag \n",
    "\n",
    "1.我们首先统计这八本书的标题在每本书出现的次数（出现则计数，没有出现则计0）\n",
    "<img src='726_2.png'>\n",
    "\n",
    "2.通过TF-IDF，比对关键词在这本书出现的次数和全部图书馆书中出现的次数，进行权衡，得出一个权重。\n",
    "<img src='726_3.png'>\n",
    "\n",
    "3.根据第二步的结果，我们得出了很多词权重，将每一本书对应的词的权重组成一个向量，将原目标书籍的向量与其他书籍所得出词的向量利用**余弦相似度**进行比对。\n",
    "\n",
    "计算这本书和其余7本书的相似度，推荐最近的：\n",
    "\n",
    "这里的结果为：\n",
    "\n",
    "rank 1：Data Mining Your Website\n",
    "\n",
    "rank 2：Accelerating Custom Relationships: Using CRM …\n",
    "\n",
    "rank 3：Mastering Data Mining: The Art and Science…\n",
    "\n",
    "其余未推荐… "
   ]
  },
  {
   "cell_type": "markdown",
   "metadata": {},
   "source": [
    "### 协同过滤\n",
    "* **User-based CF**\n",
    "  * 找到和用户最近的其他用户，找到他们看/买过但当前用户没看/买过的item，根据距离加权打分\n",
    "  * 找得分最高的推荐\n",
    "<img src='726_4.png'>\n",
    "**User-based CF:基于用户的协同过滤，找到和你关系亲近的几个人，看他们的兴趣爱好在某一领域是什么？通过加权平均可以推出你在这一领域的兴趣爱好。**\n",
    "\n",
    "* **Item-based CF**\n",
    "  * 根据用户对商品/内容的行为，计算item和item相似度，找到和当前item最近的进行推荐。\n",
    "<img src='726_5.png'>\n",
    "\n",
    "\n",
    "**Item-based CF:找到和当前商品最接近的商品，把这个商品推荐给看过这个电影的人。**\n",
    "\n",
    "所以是一种基于近邻的算法，基于邻居来做决策。\n",
    "\n",
    "1.基于近邻来做综合判定\n",
    "\n",
    "2.近邻如何找，在user-based CF要**依托于共同商品的行为**。比如A和B两个人对三部电影abc的打分(数字)，组成两个向量，这样我们计算向量之间的距离就可以判定他们之间是不是近邻。\n",
    "\n",
    "3.Item-based CF如何找近邻：\n",
    "<img src='725_1.png'>\n",
    "如图所示，abcde五个不同的用户对两种商品的打分，因为用户b对商品B没有打分，所有我们计算acde四位用户对商品的打分并组成两个向量，计算他们之间的距离，从而确定近邻。(这里商品应该是多个)"
   ]
  },
  {
   "cell_type": "markdown",
   "metadata": {},
   "source": [
    "### 相似度/距离定义\n",
    "\n",
    "* 欧氏距离\n",
    "$$\n",
    "\\operatorname{dist}(X, Y)=\\left(\\sum_{i=1}^{n}\\left|x_{i}-y_{i}\\right|^{p}\\right)^{\\frac{1}{p}}\n",
    "$$\n",
    "* Jaccard相似度\n",
    "$$\n",
    "J(A, B)=\\frac{|A \\cap B|}{|A \\cup B|}\n",
    "$$\n",
    "* 余弦相似度\n",
    "$$\n",
    "\\cos (\\theta)=\\frac{a^{T} b}{|a| \\cdot|b|}\n",
    "$$\n",
    "* Pearson相似度\n",
    "$$\n",
    "\\frac{\\sum_{i=1}^{n}\\left(X_{i}-\\mu_{x}\\right)\\left(Y_{i}-\\mu_{y}\\right)}{\\sqrt{\\sum_{i=1}^{n}\\left(X_{i}-\\mu_{x}\\right)^{2}} \\sqrt{\\sum_{i=1}^{n}\\left(Y_{i}-\\mu_{y}\\right)^{2}}}\n",
    "$$"
   ]
  },
  {
   "cell_type": "markdown",
   "metadata": {},
   "source": [
    "### 基于物品的协同过滤\n",
    "* 一个用户序列$\\mathrm{u}_{\\mathrm{i}}, \\mathrm{i}=1, \\ldots \\mathrm{n}$ ,一个item序列$\\mathrm{p}_{\\mathrm{j}}, \\mathrm{j}=1, \\ldots, \\mathrm{m}$\n",
    "* 一个n×m的矩阵v，每个元素$v_{i j}$表示用户对j的打分\n",
    "* 计算item和item之间的相似度/距离\n",
    "\n",
    "余弦相似度：\n",
    "$S(i, j)=\\cos (\\vec{i}, \\vec{j})=\\frac{\\vec{i} \\cdot \\vec{j}}{\\|\\vec{i}\\|_{2} *\\|\\vec{j}\\|_{2}}$\n",
    "\n",
    "皮尔森相关系数：$\\frac{\\sum_{i=1}^{n}\\left(X_{i}-\\mu_{X}\\right)\\left(Y_{i}-\\mu_{Y}\\right)}{\\sqrt{\\sum_{i=1}^{n}\\left(X_{i}-\\mu_{X}\\right)^{2}} \\sqrt{\\sum_{i=1}^{n}\\left(Y_{i}-\\mu_{Y}\\right)^{2}}}$\n",
    "* 选取Top K推荐或者加权预测得分\n",
    "$$\n",
    "r_{x i}=\\frac{\\sum_{j \\in N(i ; x)} s_{i j} \\cdot r_{x j}}{\\sum_{j \\in N(i, x)} s_{i j}}\n",
    "$$"
   ]
  },
  {
   "cell_type": "markdown",
   "metadata": {},
   "source": [
    "### 案例\n",
    "1.我们的目标是找出和第一部电影最相近的两部电影，并填上对应的打分值。因为是基于Item的协同过滤，所以我们采用余弦相似度计算出其他和电影1的余弦相似度之间的距离。从中可以看出，第三部和第六部电影相似度最高，所以TOP2是这两部电影。\n",
    "<img src='726_6.png'>\n",
    "2.假设我们要填充users5对movies1的打分结果，根据公式$r_{i x}=\\frac{\\sum_{j \\in N(i ; x)} s_{i j} \\cdot r_{j x}}{\\sum s_{i j}}$。\n",
    "$$\n",
    "r_{1.5}=\\left(0.41^{*} 2+0.59^{*} 3\\right) /(0.41+0.59)=2.6\n",
    "$$\n",
    "计算出对应的值。\n",
    "<img src='726_7.png'>"
   ]
  },
  {
   "cell_type": "markdown",
   "metadata": {},
   "source": [
    "### 基于用户的协同过滤\n",
    "* 一个用户序列$\\mathrm{u}_{\\mathrm{i}}, \\mathrm{i}=1, \\ldots \\mathrm{n}$ ,一个item序列$\\mathrm{p}_{\\mathrm{j}}, \\mathrm{j}=1, \\ldots, \\mathrm{m}$\n",
    "* 一个n×m的矩阵v，每个元素$v_{i j}$表示用户i对j的打分\n",
    "* 计算相似度/距离\n",
    "* 计算相似度/距离\n",
    "$$\n",
    "u_{i k}=\\frac{\\sum_{j}\\left(v_{i j}-v_{i}\\right)\\left(v_{k j}-v_{k}\\right)}{\\sqrt{\\sum_{j}\\left(v_{i j}-v_{i}\\right)^{2} \\sum_{j}\\left(v_{k j}-v_{k}\\right)^{2}}}\n",
    "$$\n",
    "或者\n",
    "$$\n",
    "\\cos \\left(u_{i}, u_{j}\\right)=\\frac{\\sum_{k=1}^{m} v_{i k} v_{j k}}{\\sqrt{\\sum_{k=1}^{m} v_{k}^{2} \\sum_{k=1}^{m} v_{j k}^{2}}}\n",
    "$$\n",
    "* 预测得分\n",
    "$v_{i j}^{*}=K \\sum_{v_{y} \\neq ?} u_{j k} v_{k j}$或者$v_{i j}^{*}=v_{i}+K \\sum_{v_{y t} \\neq 2} u_{j k}\\left(v_{k j}-v_{k}\\right)$\n",
    "\n",
    "基于ITem是按行计算，基于用户就是按列计算"
   ]
  },
  {
   "cell_type": "markdown",
   "metadata": {},
   "source": [
    "## 推荐系统之 CF对比 \n",
    "\n",
    "### UserCF vs ItemCF \n",
    "电商为什么一般用ItemCF：\n",
    "\n",
    "1.用户的数量大于物品的数量，如果用UserCF则计算量很大\n",
    "\n",
    "2.人的兴趣爱好是会变的，这样稳定性不好，而ITemCF是不会变化的，该是什么样的题材就是什么样的题材，波动较小\n",
    "\n",
    "3.比较好给推荐理由(购买A的人基本都买了B)\n",
    "<img src='726_8.png'>"
   ]
  },
  {
   "cell_type": "markdown",
   "metadata": {},
   "source": [
    "## 推荐系统之 CF优缺点 \n",
    "\n",
    "* 协同过滤优点\n",
    "  * 基于用户行为，因此对推荐内容无需先验知识\n",
    "  * 只需要用户和商品关联矩阵即可，结构简单\n",
    "  * 在用户行为丰富的情况下，效果好\n",
    "  \n",
    "  \n",
    "  \n",
    "* 协同过滤缺点\n",
    "  * 需要大量的显性/隐性用户行为\n",
    "  * 需要通过完全相同的商品关联，相似的不行\n",
    "  * 假定用户的兴趣完全取决于之前的行为，而和当前上下文环境无关\n",
    "  * 在数据稀疏的情况下受影响。可以考虑二度关联"
   ]
  },
  {
   "cell_type": "markdown",
   "metadata": {},
   "source": [
    "## 推荐系统之 冷启动问题\n",
    "\n",
    "* 对于新用户\n",
    "  * 所有推荐系统对于新用户都有这个问题\n",
    "  * 推荐非常热门的商品，收集一些信息\n",
    "  * 在用户注册的时候收集一些信息\n",
    "  * 在用户注册完之后，用一些互动游戏等确定喜欢与不喜欢\n",
    "  \n",
    "* 对于新商品\n",
    "  * 根据本身的属性，求与原来商品的相似度。\n",
    "  * Item-based协同过滤可以推荐出去。"
   ]
  },
  {
   "cell_type": "markdown",
   "metadata": {},
   "source": [
    "## 推荐系统之 推荐算法进阶 "
   ]
  },
  {
   "cell_type": "markdown",
   "metadata": {},
   "source": [
    "### 隐语义模型\n",
    "\n",
    "* 我们有一个用户评分矩阵，但是有一些位置是空着的（没打分）\n",
    "* 我们要做的事情是，尽量填满未打分的项（预测得分）。\n",
    "\n",
    "* **主要想法是，应该有一些隐藏的因素，影响用户的打分**\n",
    "  * 比如电影：演员、题材、主题、年代…\n",
    "  * 不一定是人直接可理解的隐藏因子\n",
    "  * 找到隐藏因子，可以对user和item进行关联\n",
    "* 我们假定：\n",
    "  * 隐藏因子的个数小于user和item数\n",
    "  * 因为如果每个user都关联一个独立的隐藏因子，那就没法做预测了。"
   ]
  },
  {
   "cell_type": "markdown",
   "metadata": {},
   "source": [
    "### 矩阵分解"
   ]
  },
  {
   "cell_type": "markdown",
   "metadata": {},
   "source": [
    "原来的矩阵是用户对商品之间进行打分，现在我们考虑到隐藏因素带来的影响，他们会影响用户的打分。\n",
    "将矩阵分解为两部分，一个矩阵是这用户在隐藏因素下的值，第二个矩阵是这商品在这隐藏因素下的值.如果打分都是正向的话，乘积就是正向的；如果打分一个正向一个\n",
    "负向，那么矩阵就是负值。\n",
    "<img src='726_9.png'>"
   ]
  },
  {
   "cell_type": "markdown",
   "metadata": {},
   "source": [
    "其中，F代表的是我们假设的隐藏影响因子。将矩阵进行转置，得到如下：\n",
    "<img src='726_10.png'>"
   ]
  },
  {
   "cell_type": "markdown",
   "metadata": {},
   "source": [
    "**那么如何进行矩阵分解呢？**\n"
   ]
  },
  {
   "cell_type": "markdown",
   "metadata": {},
   "source": [
    "* 需要矩阵分解，首先想到SVD\n",
    "* 但是SVD的时间复杂度是O(m3),同时原矩阵缺省值太多。\n",
    "\n",
    "不用SVD进行分解的原因：\n",
    "\n",
    "1.时间复杂度太高\n",
    "\n",
    "2.如果原矩阵存在缺省值，大多数情况填充0，就属于人为给定了一个分数，矩阵还原的时候，会趋向于给定一个比较小的值，不是很合理。"
   ]
  },
  {
   "cell_type": "markdown",
   "metadata": {},
   "source": [
    "<img src='726_11.png'>"
   ]
  },
  {
   "cell_type": "markdown",
   "metadata": {},
   "source": [
    "**最简单的办法是直接矩阵分解**\n",
    "\n",
    "* CF简单直接可解释性强，但隐语义模型能更好地挖掘用户和item关联中的隐藏因子。\n",
    "<img src='726_12.png'>\n",
    "**从图中可以看出，有些用户对商品没有进行打分**"
   ]
  },
  {
   "cell_type": "markdown",
   "metadata": {},
   "source": [
    "* 假定有U个用户，D个item，R为打分矩阵\n",
    "\n",
    "* 假定有K个隐含变量，我们需要找到矩阵$P(U * K)$和$Q(D * K)$: \n",
    "$$\n",
    "\\mathbf{R} \\approx \\mathbf{P} \\times \\mathbf{Q}^{T}=\\hat{\\mathbf{R}}\n",
    "$$\n",
    "$$\n",
    "\\hat{r}_{i j}=p_{i}^{T} q_{j}=\\sum_{k=1}^{k} p_{i k} q_{k j}\n",
    "$$\n",
    "其中，R是我们预测的合并之后的矩阵，$\\hat{r}_{i j}$是对应的矩阵P和矩阵Q中对应元素的乘积,k表示的是隐含变量个数\n",
    "\n",
    "**那么我们如何找到最佳的P和Q呢？**\n",
    "\n",
    "需要用到梯度下降\n",
    "\n",
    "* 定义损失函数\n",
    "$$\n",
    "e_{i j}^{2}=\\left(r_{i j}-\\hat{r}_{i j}\\right)^{2}=\\left(r_{i j}-\\sum_{k=1}^{K} p_{i k} q_{k j}\\right)^{2}\n",
    "$$\n",
    "* 求解梯度\n",
    "$$\n",
    "\\begin{array}{l}{\\frac{\\partial}{\\partial p_{k}} e_{i j}^{2}=-2\\left(r_{i j}-\\hat{r}_{i j}\\right)\\left(q_{k j}\\right)=-2 e_{i j} q_{k j}} \\\\ {\\frac{\\partial}{\\partial q_{i k}} e_{i j}^{2}=-2\\left(r_{i j}-\\hat{r}_{i j}\\right)\\left(p_{i k}\\right)=-2 e_{i j} p_{i k}}\\end{array}\n",
    "$$\n",
    "* 迭代更新\n",
    "$$\n",
    "\\begin{array}{l}{p_{i k}^{\\prime}=p_{i k}+\\alpha \\frac{\\partial}{\\partial p_{i k}} e_{i j}^{2}=p_{i k}+2 \\alpha e_{i j} q_{k j}} \\\\ {q_{k j}^{\\prime}=q_{k j}+\\alpha \\frac{\\partial}{\\partial q_{k j}} e_{i j}^{2}=q_{k j}+2 \\alpha e_{i j} p_{i k}}\\end{array}\n",
    "$$\n",
    "\n",
    "**别忘了正则化: **\n",
    "$$\n",
    "e_{i j}^{2}=\\left(r_{i j}-\\sum_{k=1}^{K} p_{i k} q_{k j}\\right)^{2}+\\frac{\\beta}{2} \\sum_{k=1}^{K}\\left(\\|P\\|^{2}+\\|Q\\|^{2}\\right)\n",
    "$$\n",
    "\n",
    "**再次求梯度/偏导，更新迭代公式**\n",
    "$$\n",
    "\\begin{array}{l}{p_{i k}^{\\prime}=p_{i k}+\\alpha \\frac{\\partial}{\\partial p_{i t}} e_{i j}^{2}=p_{i k}+\\alpha\\left(2 e_{i j} q_{k j}-\\beta p_{i k}\\right)} \\\\ {q_{k j}^{\\prime}=q_{k j}+\\alpha \\frac{\\partial}{\\partial q_{i j}} e_{i j}^{2}=q_{k j}+\\alpha\\left(2 e_{i j} p_{i k}-\\beta q_{k j}\\right)}\\end{array}\n",
    "$$\n",
    "* 再还原回矩阵乘积，即可补充未打分项\n",
    "\n",
    "**通常情况下，我们会限定分解得到的P和Q中的元素都非负，这样得到的结果是一定程度上可解释的。**\n",
    "* 因为不存在减法操作，因此可以看做对隐变量特征的线性加权拟合。"
   ]
  },
  {
   "cell_type": "markdown",
   "metadata": {},
   "source": [
    "## 隐语义模型进一步优化"
   ]
  },
  {
   "cell_type": "markdown",
   "metadata": {},
   "source": [
    "$$\n",
    "e_{i j}^{2}=\\left(r_{i j}-\\sum_{k=1}^{K} p_{i k} q_{k j}\\right)^{2}+\\frac{\\beta}{2} \\sum_{k=1}^{K}\\left(\\|P\\|^{2}+\\|Q\\|^{2}\\right)\n",
    "$$\n",
    "我们在上述公式的基础上加入三个变量：\n",
    "\n",
    "$b_{x}$表示所有用户的平均得分（单个来讲每个用户打分的平均值),$b_{i}$表示所有电影的平均值，$\\mu$表示所有用户对电影打分的平均值。\n",
    "<img src='727_1.png'>\n",
    "\n",
    "这样公式更新之后如下：\n",
    "<img src='727_2.png'>\n",
    "<img src='727_3.png'>"
   ]
  },
  {
   "cell_type": "markdown",
   "metadata": {},
   "source": [
    "### 加bias的隐语义模型\n",
    "\n",
    "后面的是正则化项，因为加入了新的参数，所以要对其有所约束。\n",
    "\n",
    "<img src='727_4.png'>"
   ]
  },
  {
   "cell_type": "markdown",
   "metadata": {},
   "source": [
    "我们来看一下加入bias之后带来的一些影响：\n",
    "\n",
    "<img src='727_5.png'>"
   ]
  },
  {
   "cell_type": "markdown",
   "metadata": {},
   "source": [
    "## 推荐系统之 推荐算法进阶"
   ]
  },
  {
   "cell_type": "markdown",
   "metadata": {},
   "source": [
    "* Word2vec与用户行为序列\n",
    "  * 我们给定中文分词后的文本，使用word2vec能得到每个词(phrase)在高维空间的特征向量。\n",
    "  * 向量和向量之间的距离远近，表示2个词的关联度高低。\n",
    "  * 和“北京”最近的词为“东京”“柏林”“巴黎”“伦敦”\n",
    "* 在推荐里怎么用？\n",
    "  * 把用户的行为序列当做分词过后的phrase\n",
    "  * 送给word2vec学习\n",
    "  * 根据商品映射得到的特征向量去找相似的商品\n",
    "* 本质上也是体现商品关联，但是比协同过滤的覆盖度高"
   ]
  },
  {
   "cell_type": "markdown",
   "metadata": {},
   "source": [
    "* 个性化结果展出方式\n",
    "  * 按照不同维度（比如题材）等展出\n",
    "  * 排序的结果使用上下文信息重拍\n",
    "  * 对结果都提供『解释理由』\n",
    "* 如何得到的？\n",
    "  * 隐性用户反馈：\n",
    "  * 最近观看，打分情况，浏览，停留时长\n",
    "  * 显性数据：\n",
    "  * 用户的偏好\n",
    "* 准确度，丰富度，新鲜度"
   ]
  },
  {
   "cell_type": "markdown",
   "metadata": {},
   "source": [
    "## 推荐系统之 参考库 "
   ]
  },
  {
   "cell_type": "markdown",
   "metadata": {},
   "source": [
    "<img src='727_6.png'>"
   ]
  },
  {
   "cell_type": "code",
   "execution_count": null,
   "metadata": {},
   "outputs": [],
   "source": []
  }
 ],
 "metadata": {
  "kernelspec": {
   "display_name": "Python 3",
   "language": "python",
   "name": "python3"
  },
  "language_info": {
   "codemirror_mode": {
    "name": "ipython",
    "version": 3
   },
   "file_extension": ".py",
   "mimetype": "text/x-python",
   "name": "python",
   "nbconvert_exporter": "python",
   "pygments_lexer": "ipython3",
   "version": "3.7.2"
  }
 },
 "nbformat": 4,
 "nbformat_minor": 2
}
