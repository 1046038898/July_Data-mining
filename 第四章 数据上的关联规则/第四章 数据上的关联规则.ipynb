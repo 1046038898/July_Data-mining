{
 "cells": [
  {
   "cell_type": "markdown",
   "metadata": {},
   "source": [
    "数据挖掘相对于机器学习范围更广泛"
   ]
  },
  {
   "cell_type": "markdown",
   "metadata": {},
   "source": [
    "Hadoop是一种频繁读取的方式，是一种需要不断读写的过程。\n",
    "\n",
    "Apriori算法时间复杂度和空间复杂度都相对较高"
   ]
  },
  {
   "cell_type": "markdown",
   "metadata": {},
   "source": [
    "电商推荐：协同过滤\n",
    "\n",
    "根据用户行为相似性推荐商品\n",
    "\n",
    "learing to rate"
   ]
  },
  {
   "cell_type": "code",
   "execution_count": null,
   "metadata": {},
   "outputs": [],
   "source": []
  }
 ],
 "metadata": {
  "kernelspec": {
   "display_name": "Python 3",
   "language": "python",
   "name": "python3"
  },
  "language_info": {
   "codemirror_mode": {
    "name": "ipython",
    "version": 3
   },
   "file_extension": ".py",
   "mimetype": "text/x-python",
   "name": "python",
   "nbconvert_exporter": "python",
   "pygments_lexer": "ipython3",
   "version": "3.7.2"
  }
 },
 "nbformat": 4,
 "nbformat_minor": 2
}
