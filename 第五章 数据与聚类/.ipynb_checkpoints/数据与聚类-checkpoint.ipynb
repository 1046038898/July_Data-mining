{
 "cells": [
  {
   "cell_type": "markdown",
   "metadata": {},
   "source": [
    "Saprk和Hadoop区别：Spark是基于内存式计算而不是硬盘式计算，第一次就把数据读取到内存中，而且有缓存。"
   ]
  },
  {
   "cell_type": "markdown",
   "metadata": {},
   "source": [
    "### 主要内容"
   ]
  },
  {
   "cell_type": "markdown",
   "metadata": {},
   "source": [
    "#### 聚类算法\n",
    "\n",
    "* K-Means\n",
    "* K-Means++\n",
    "* 实践\n",
    "\n",
    "#### 社区发现算法\n",
    "* GN\n",
    "* Modularity based\n",
    "* LPA\n",
    "* 实践\n"
   ]
  },
  {
   "cell_type": "markdown",
   "metadata": {},
   "source": [
    "#### 聚类算法"
   ]
  },
  {
   "cell_type": "markdown",
   "metadata": {},
   "source": [
    "\n",
    "监督学习：是指我们利用带有类别属性标注的数据去训练、学习，用于预测未知数据的类别属性。例如，LR、SVM、KNN。\n",
    "\n",
    "无监督学习：是指在无人工干预的情况下将数据按照相似程度划分。例如，聚类。\n",
    "\n",
    "半监督学习：主要考虑如何利用少量的标注样本和大量的未标注样本进行训练和分类的问题。"
   ]
  },
  {
   "cell_type": "markdown",
   "metadata": {},
   "source": [
    "<img src='721.png'>"
   ]
  },
  {
   "cell_type": "markdown",
   "metadata": {},
   "source": [
    "#### Partitioning Methods 划分聚类\n",
    "* K-Means\n",
    "\n",
    "#### Hierachical Methods 层次聚类\n",
    "* Bottom-Up、Top-Down；BIRCH、CURE、CHAMELEON\n",
    "\n",
    "#### Density-based Methods 基于密度算法\n",
    "* DBSCAN\n",
    "\n",
    "#### Grid-based Methods 基于网格算法\n",
    "* CLIQUE\n",
    "\n",
    "#### Model-based Methods 基于模型算法\n",
    "* 统计方案、神经网络方案"
   ]
  },
  {
   "cell_type": "markdown",
   "metadata": {},
   "source": [
    "### K-Means算法"
   ]
  },
  {
   "cell_type": "markdown",
   "metadata": {},
   "source": [
    "算法的思想是初始随机给定K个簇中心，按照距离最近原则把待分类的样本点分到各个簇，然后按平均法重新计算各个簇的质心，从而确定新的簇心，\n",
    "迭代计算，直到簇心的移动距离小于某个给定的误差值。使用算法描述语言，只要三个步骤：\n",
    "1. 任意选择K个点作为初始聚类中心；\n",
    "\n",
    "2. 计算每个样本点到聚类中心的距离，将每个样本点划分到离该点最近的聚类中去；\n",
    "\n",
    "3. 计算每个聚类中所有点的坐标平均值，并将这个平均值作为\n",
    "新的聚类中心。\n",
    "\n",
    "反复执行2、3，直到聚类中心的移动小于某误差值或者聚类次数达到要求为止。"
   ]
  },
  {
   "cell_type": "markdown",
   "metadata": {},
   "source": [
    "计算距离的方法通常是计算欧几里得距离，假设中心点center是(x1,y1)，需要计算的样本点point是(x2, y2)：\n",
    "$$\n",
    "\\left(EuclideanDist\\right)\n",
    "=\\left(x_{1}-x_{2}\\right)^{2}+\\left(y_{1}-y_{2}\\right)^{2}\n",
    "$$\n",
    "\n",
    "\n",
    "损失函数（Cost Function），每一次选取好新的中心点，我们就要计算一下当前选好的中心点损失为多少，这个损失代表着偏移量，\n",
    "越大说明当前聚类的效果越差，计算公式称为（WithinCluster Sum of Squares, WCSS）：\n",
    "$$\n",
    "L(C)=\\sum_{k \\in K} \\sum_{i \\in K}\\left\\|x_{i}-c_{k}\\right\\|^{2}\n",
    "$$\n",
    "\n",
    "其中，$\\mathbf{X}_{\\mathbf{i}}$表示某一对象，$\\mathbf{c}_{\\mathrm{k}}$表示该对象所属类别的中心点。整个式子的含义就\n",
    "是对各个类别下的对象，求对象与中心点的欧式距离的平方，把所有的平方求和就是$\\mathrm{L}(\\mathrm{C})$。"
   ]
  },
  {
   "cell_type": "markdown",
   "metadata": {},
   "source": [
    "参考文章 https://blog.csdn.net/gdkyxy2013/article/details/85124372"
   ]
  },
  {
   "cell_type": "markdown",
   "metadata": {},
   "source": [
    "### 1.加载数据集"
   ]
  },
  {
   "cell_type": "code",
   "execution_count": 89,
   "metadata": {},
   "outputs": [],
   "source": [
    "import numpy as np\n",
    "def load_data(file_path):\n",
    "    '''\n",
    "    导入数据\n",
    "    :file_path: 文件路径\n",
    "    :return: 以矩阵的形式返回导入的数据\n",
    "    '''\n",
    "    f = open(file_path)\n",
    "    data = []\n",
    "    for words in f.readlines():\n",
    "        row = []  # 记录每一行\n",
    "        word = words.strip().split(\"\\t\")\n",
    "        for x in word:\n",
    "            row.append(float(x))  # 将文本中的特征转换成浮点数\n",
    "        data.append(row)\n",
    "    f.close()\n",
    "    return np.mat(data)  # 以矩阵的形式返回"
   ]
  },
  {
   "cell_type": "code",
   "execution_count": 72,
   "metadata": {},
   "outputs": [],
   "source": [
    "file='./testSet.txt'\n",
    "#load_data(file)"
   ]
  },
  {
   "cell_type": "markdown",
   "metadata": {},
   "source": [
    "####     2、随机初始化K个聚类中心"
   ]
  },
  {
   "cell_type": "code",
   "execution_count": 88,
   "metadata": {},
   "outputs": [],
   "source": [
    "def randomCenter(data, k):\n",
    "    '''\n",
    "    随机初始化聚类中心\n",
    "    :data: 训练数据\n",
    "    :k: 聚类中心的个数\n",
    "    :return: 返回初始化的聚类中心\n",
    "    '''\n",
    "    n = np.shape(data)[1]  # 特征的个数\n",
    "    #print(n)\n",
    "    cent = np.mat(np.zeros((k, n)))  # 初始化K个聚类中心\n",
    "    #print(cent)\n",
    "    for j in range(n):  # 初始化聚类中心每一维的坐标\n",
    "        minJ = np.min(data[:, j])\n",
    "        rangeJ = np.max(data[:, j]) - minJ\n",
    "        #print(rangeJ)\n",
    "        cent[:, j] = minJ * np.mat(np.ones((k, 1))) + np.random.rand(k, 1) * rangeJ  # 在最大值和最小值之间初始化\n",
    "    return cent"
   ]
  },
  {
   "cell_type": "markdown",
   "metadata": {},
   "source": [
    "### 3.计算向量之间的欧氏距离"
   ]
  },
  {
   "cell_type": "code",
   "execution_count": 42,
   "metadata": {},
   "outputs": [],
   "source": [
    "def distance(vecA, vecB):\n",
    "    '''\n",
    "    计算两个向量之间欧氏距离的平方\n",
    "    :param vecA: 向量A的坐标\n",
    "    :param vecB: 向量B的坐标\n",
    "    :return: 返回两个向量之间欧氏距离的平方\n",
    "    '''\n",
    "    dist = (vecA - vecB) * (vecA - vecB).T\n",
    "    return dist[0, 0]"
   ]
  },
  {
   "cell_type": "markdown",
   "metadata": {},
   "source": [
    "2、计算每个样本与k个聚类中心的相似度，将样本划分到与之最相似的类中；"
   ]
  },
  {
   "cell_type": "markdown",
   "metadata": {},
   "source": [
    "\n",
    "\n",
    "3、计算划分到每个类别中所有样本特征的均值，并将该均值作为每个类别新的聚类中心；\n",
    "\n",
    "4、重复2、3步操作，直至聚类中心不再改变，输出最终的聚类中心。"
   ]
  },
  {
   "cell_type": "code",
   "execution_count": 37,
   "metadata": {},
   "outputs": [],
   "source": [
    "def kmeans(data, k, cent):\n",
    "    '''\n",
    "    kmeans算法求解聚类中心\n",
    "    :param data: 训练数据\n",
    "    :param k: 聚类中心的个数\n",
    "    :param cent: 随机初始化的聚类中心\n",
    "    :return: 返回训练完成的聚类中心和每个样本所属的类别\n",
    "    '''\n",
    "    m, n = np.shape(data)  # m：样本的个数；n：特征的维度\n",
    "    subCenter = np.mat(np.zeros((m, 2)))  # 初始化每个样本所属的类别\n",
    "    change = True  # 判断是否需要重新计算聚类中心\n",
    "    while change == True:\n",
    "        change = False  # 重置\n",
    "        for i in range(m):\n",
    "            minDist = np.inf  # 设置样本与聚类中心的最小距离，初始值为正无穷\n",
    "            minIndex = 0  # 所属的类别\n",
    "            for j in range(k):\n",
    "                # 计算i和每个聚类中心的距离\n",
    "                dist = distance(data[i, ], cent[j, ])\n",
    "                if dist < minDist:\n",
    "                    minDist = dist\n",
    "                    minIndex = j\n",
    "            # 判断是否需要改变\n",
    "            if subCenter[i, 0] != minIndex:  # 需要改变\n",
    "                change = True\n",
    "                subCenter[i, ] = np.mat([minIndex, minDist])\n",
    "                \n",
    "        # 重新计算聚类中心\n",
    "        for j in range(k):\n",
    "            sum_all = np.mat(np.zeros((1, n)))\n",
    "            r = 0  # 每个类别中样本的个数\n",
    "            for i in range(m):\n",
    "                if subCenter[i, 0] == j:  # 计算第j个类别\n",
    "                    sum_all += data[i, ]\n",
    "                    r += 1\n",
    "            for z in range(n):\n",
    "                try:\n",
    "                    cent[j, z] = sum_all[0, z] / r\n",
    "                except:\n",
    "                    print(\"ZeroDivisionError: division by zero\")\n",
    "    return subCenter, cent"
   ]
  },
  {
   "cell_type": "code",
   "execution_count": null,
   "metadata": {},
   "outputs": [],
   "source": []
  },
  {
   "cell_type": "markdown",
   "metadata": {},
   "source": [
    "### 3、保存聚类结果"
   ]
  },
  {
   "cell_type": "code",
   "execution_count": 105,
   "metadata": {},
   "outputs": [],
   "source": [
    "def save_result(file_name, data):\n",
    "    '''\n",
    "    保存source中的结果到file_name文件中\n",
    "    :param file_name: 保存的文件名\n",
    "    :param data: 需要保存的数据\n",
    "    :return:\n",
    "    '''\n",
    "    m, n = np.shape(data)\n",
    "    f = open(file_name, \"w\")\n",
    "    for i in range(m):\n",
    "        tmp = []\n",
    "        for j in range(n):\n",
    "            tmp.append(str(data[i, j]))\n",
    "        f.write(\"\\t\".join(tmp) + \"\\n\")\n",
    "    f.close()"
   ]
  },
  {
   "cell_type": "markdown",
   "metadata": {},
   "source": [
    "### 4、调用K-Means算法"
   ]
  },
  {
   "cell_type": "code",
   "execution_count": 106,
   "metadata": {
    "scrolled": true
   },
   "outputs": [],
   "source": [
    "if __name__ == \"__main__\":\n",
    "    k = 4  # 聚类中心的个数\n",
    "    file_path = \"./testSet.txt\"\n",
    "    subCenter, center = kmeans(load_data(file_path), k, randomCenter(load_data(file_path), k))\n",
    "    save_result(\"./kmeans_sub\", subCenter)#每个数据所属的分类\n",
    "    save_result(\"./kmeans_center\", center)#最终的聚类中心"
   ]
  },
  {
   "cell_type": "markdown",
   "metadata": {},
   "source": [
    "### K-Means算法优点"
   ]
  },
  {
   "cell_type": "markdown",
   "metadata": {},
   "source": [
    "同一聚类的簇内的对象相似度较高；而不同聚类的簇内的对象相似度较小\n",
    "\n",
    "1.算法快速、简单; \n",
    "\n",
    "2.对大数据集有较高的效率并且是可伸缩性的; \n",
    "\n",
    "3.时间复杂度近于线性，而且适合挖掘大规模数据集。K-Means聚类算法的**时间复杂度是O(n×k×t)** ,其中n代表数据集中对象的数量，t代表着算法迭代的次数，k代表着簇的数目　 "
   ]
  },
  {
   "cell_type": "markdown",
   "metadata": {},
   "source": [
    "### K-Means算法缺陷"
   ]
  },
  {
   "cell_type": "markdown",
   "metadata": {},
   "source": [
    "**K值需要预先给定**，属于预先知识，很多情况下K值的估计是非常困难的，对于像计算全部微信用户的交往圈这样的场景就\n",
    "完全的没办法用K-Means进行。对于可以确定K值不会太大但不明确精确的K值的场景，可以进行迭代运算，然后找出Cost\n",
    "Function最小时所对应的K值，这个值往往能较好的描述有多少个簇类。\n",
    "\n",
    "\n",
    "K-Means算法对初始选取的聚类中心点是敏感的，**不同的随机种子点得到的聚类结果完全不同**。可以用K-Means++算法来解\n",
    "决这个问题。"
   ]
  },
  {
   "cell_type": "markdown",
   "metadata": {},
   "source": [
    "### K-Means++算法"
   ]
  },
  {
   "cell_type": "markdown",
   "metadata": {},
   "source": [
    "K-Means++算法选择初始聚类中心的思想是：**初始的聚类中心之间的相互距离要尽可能远**。算法步骤如下：\n",
    "1. 随机挑选一个点作为第一个聚类中心；\n",
    "2. 对于每一个点x，计算和其最近的一个聚类中心的距离D(x)，\n",
    "将所有距离求和得到Sum(D(x))；\n",
    "3. 然后，再取一个随机值，用权重的方式来取计算下一个“种子\n",
    "点”。这个算法的实现是，先取一个能落在Sum(D(x))中的随\n",
    "机值Random，然后用Random -= D(x)，直到其<=0，此时的点\n",
    "就是下一个“种子点”（其思想是，D(x)较大的点，被选取作\n",
    "为聚类中心的概率较大）；\n",
    "4. 重复2和3，直到K个聚类中心被选出来；\n",
    "5. 利用这K个初始聚类中心进行K-Means算法。"
   ]
  },
  {
   "cell_type": "markdown",
   "metadata": {},
   "source": [
    "参考文章  https://blog.csdn.net/gdkyxy2013/article/details/88381120"
   ]
  },
  {
   "cell_type": "markdown",
   "metadata": {},
   "source": [
    "K-Means++算法和K-Means算法最本质的区别在与聚类中心的初始化，K-Means++算法聚类中心初始化的构建过程如下\n",
    "\n",
    "本质就是我们将数据的每一个点X计算和其最近的聚类中心的点，然后将他们的和相加，记为Sum(D(x))\n",
    "\n",
    "然后从Sum(D(x))中找一个随机值，统计距离这个随机值最远的点作为聚类中心\n",
    "\n",
    "然后依次循环，直到K结束"
   ]
  },
  {
   "cell_type": "code",
   "execution_count": 191,
   "metadata": {},
   "outputs": [],
   "source": [
    "def get_cent(points, k):\n",
    "    '''\n",
    "    :points: 样本\n",
    "    :k: 聚类中心的个数\n",
    "    :return: 初始化后的聚类中心\n",
    "    '''\n",
    "    m, n = np.shape(points)\n",
    "    cluster_centers = np.mat(np.zeros((k, n)))\n",
    " \n",
    "    # 1、随机选择一个样本点作为第一个聚类中心   这里一共有80个样本点\n",
    "    index = np.random.randint(0, m)\n",
    "    cluster_centers[0, ] = np.copy(points[index, ])  # 复制函数，修改cluster_centers，不会影响points\n",
    " \n",
    "    # 2、初始化一个距离序列\n",
    "    d = [0.0 for _ in range(m)]\n",
    " \n",
    "    for i in range(1, k):\n",
    "        sum_all = 0\n",
    "        for j in range(m):\n",
    "            # 3、对每一个样本找到最近的聚类中心点\n",
    "            d[j] = nearest(points[j, ], cluster_centers[0:i, ])\n",
    "            # 4、将所有的最短距离相加\n",
    "            sum_all += d[j]\n",
    "        # 5、取得sum_all之间的随机值\n",
    "        sum_all *= np.random.random()\n",
    "        # 6、获得距离最远的样本点作为聚类中心点\n",
    "        for j, di in enumerate(d):  # enumerate()函数用于将一个可遍历的数据对象（如列表、元组或字符串）组合为一个索引序列，同事列出数据和数据下标一般用在for循环中\n",
    "            sum_all -= di\n",
    "            if sum_all > 0:\n",
    "                continue\n",
    "            cluster_centers[i] = np.copy(points[j, ])\n",
    "            break\n",
    "    return cluster_centers"
   ]
  },
  {
   "cell_type": "code",
   "execution_count": null,
   "metadata": {},
   "outputs": [],
   "source": []
  },
  {
   "cell_type": "markdown",
   "metadata": {},
   "source": [
    "在上述代码中，函数nearest()用于计算最短距离，具体实现过程如下所示："
   ]
  },
  {
   "cell_type": "code",
   "execution_count": 192,
   "metadata": {},
   "outputs": [],
   "source": [
    "def nearest(point, cluster_centers):\n",
    "    '''\n",
    "    计算point和cluster_centers之间的最小距离\n",
    "    :param point: 当前的样本点\n",
    "    :param cluster_centers: 当前已经初始化的聚类中心\n",
    "    :return: 返回point与当前聚类中心的最短距离\n",
    "    '''\n",
    "    min_dist = np.inf\n",
    "    m = np.shape(cluster_centers)[0]  # 当前已经初始化聚类中心的个数\n",
    "    for i in range(m):\n",
    "        # 计算point与每个聚类中心之间的距离\n",
    "        d = distance(point, cluster_centers[i, ])\n",
    "        # 选择最短距离\n",
    "        if d< min_dist:\n",
    "            min_dist = d\n",
    "    return min_dist"
   ]
  },
  {
   "cell_type": "code",
   "execution_count": null,
   "metadata": {},
   "outputs": [],
   "source": []
  },
  {
   "cell_type": "markdown",
   "metadata": {},
   "source": [
    "数据集以及加载数据集、保存聚类结果等相关方法还是使用K-Means算法中的方法，可以直接import使用。"
   ]
  },
  {
   "cell_type": "code",
   "execution_count": 193,
   "metadata": {},
   "outputs": [],
   "source": [
    "if __name__ == \"__main__\":\n",
    "    k=4\n",
    "    file_path = \"./testSet.txt\"\n",
    "    subCenter, centroids = kmeans(load_data(file_path), k, get_cent(load_data(file_path), k))\n",
    "    save_result(\"./kmeans_sub\", subCenter)\n",
    "    save_result(\"./kmeans_center\", centroids)"
   ]
  },
  {
   "cell_type": "markdown",
   "metadata": {},
   "source": [
    "### scala语言实现"
   ]
  },
  {
   "cell_type": "markdown",
   "metadata": {},
   "source": [
    "环境Spark\n",
    "* 语言Scala\n",
    "* Mllib、GraphX"
   ]
  },
  {
   "cell_type": "markdown",
   "metadata": {},
   "source": [
    "测试数据：\n",
    "\n",
    "0.0 0.0\n",
    "\n",
    "0.1 0.1\n",
    "\n",
    "0.2 0.2\n",
    "\n",
    "3.0 3.0\n",
    "\n",
    "3.1 3.1\n",
    "\n",
    "3.2 3.2\n",
    "\n",
    "9.0 9.0\n",
    "\n",
    "9.1 9.1\n",
    "\n",
    "9.2 9.2 "
   ]
  },
  {
   "cell_type": "code",
   "execution_count": null,
   "metadata": {},
   "outputs": [],
   "source": []
  },
  {
   "cell_type": "code",
   "execution_count": null,
   "metadata": {},
   "outputs": [],
   "source": []
  },
  {
   "cell_type": "markdown",
   "metadata": {},
   "source": [
    "## Results"
   ]
  },
  {
   "cell_type": "markdown",
   "metadata": {},
   "source": [
    "在构成圆形的30000个随机样本点上，设置7个簇，分别使用K-Means算法和K-Means++算法的聚类对比图如下："
   ]
  },
  {
   "cell_type": "markdown",
   "metadata": {},
   "source": [
    "github:https://github.com/sumnous/Mllearn"
   ]
  },
  {
   "cell_type": "markdown",
   "metadata": {},
   "source": [
    "### K-Means++"
   ]
  },
  {
   "cell_type": "code",
   "execution_count": 201,
   "metadata": {},
   "outputs": [
    {
     "name": "stdout",
     "output_type": "stream",
     "text": [
      "5.430019155262811 -3.279697823949018 0\n",
      "-5.552286104374841 -3.243551773740525 1\n",
      "0.02606599970339859 -6.415832215366684 2\n",
      "0.2605937414523067 6.370598193203869 3\n",
      "-0.012519326388486941 -0.014188778727873467 4\n",
      "-5.389421868612584 3.3661742272535786 5\n",
      "5.597009423442523 3.0004161648150687 6\n"
     ]
    },
    {
     "data": {
      "image/png": "[encoded data removed]",
      "text/plain": [
       "<Figure size 432x288 with 1 Axes>"
      ]
     },
     "metadata": {},
     "output_type": "display_data"
    }
   ],
   "source": [
    "from math import pi, sin, cos\n",
    "from collections import namedtuple\n",
    "from random import random, choice\n",
    "from copy import copy\n",
    "import matplotlib.pyplot as plt\n",
    "import numpy as np\n",
    "import sys\n",
    "\n",
    "try:\n",
    "    import psyco\n",
    "    psyco.full()\n",
    "except ImportError:\n",
    "    pass\n",
    "\n",
    "\n",
    "FLOAT_MAX = 1e100\n",
    "\n",
    "\n",
    "class Point:\n",
    "    __slots__ = [\"x\", \"y\", \"group\"]\n",
    "    def __init__(self, x=0.0, y=0.0, group=1):\n",
    "        self.x, self.y, self.group = x, y, group\n",
    "\n",
    "\n",
    "def generate_points(npoints, radius):\n",
    "    points = [Point() for _ in range(npoints)]\n",
    "\n",
    "    # note: this is not a uniform 2-d distribution\n",
    "    for p in points:\n",
    "        r = random() * radius\n",
    "        ang = random() * 2 * pi\n",
    "        p.x = r * cos(ang)\n",
    "        p.y = r * sin(ang)\n",
    "\n",
    "    return points\n",
    "\n",
    "\n",
    "def nearest_cluster_center(point, cluster_centers):\n",
    "    \"\"\"Distance and index of the closest cluster center\"\"\"\n",
    "    def sqr_distance_2D(a, b):\n",
    "        return (a.x - b.x) ** 2  +  (a.y - b.y) ** 2\n",
    "\n",
    "    min_index = point.group\n",
    "    min_dist = FLOAT_MAX\n",
    "\n",
    "    for i, cc in enumerate(cluster_centers):\n",
    "        d = sqr_distance_2D(cc, point)\n",
    "        if min_dist > d:\n",
    "            min_dist = d\n",
    "            min_index = i\n",
    "\n",
    "    return (min_index, min_dist)\n",
    "\n",
    "\n",
    "def kpp(points, cluster_centers):\n",
    "    cluster_centers[0] = copy(choice(points))\n",
    "    d = [0.0 for _ in range(len(points))]\n",
    "\n",
    "    for i in range(1, len(cluster_centers)):\n",
    "        sum = 0\n",
    "        for j, p in enumerate(points):\n",
    "            d[j] = nearest_cluster_center(p, cluster_centers[:i])[1]\n",
    "            sum += d[j]\n",
    "\n",
    "        sum *= random()\n",
    "\n",
    "        for j, di in enumerate(d):\n",
    "            sum -= di\n",
    "            if sum > 0:\n",
    "                continue\n",
    "            cluster_centers[i] = copy(points[j])\n",
    "            break\n",
    "\n",
    "    for p in points:\n",
    "        p.group = nearest_cluster_center(p, cluster_centers)[0]\n",
    "\n",
    "\n",
    "def lloyd(points, nclusters):\n",
    "    cluster_centers = [Point() for _ in range(nclusters)]\n",
    "\n",
    "    # call k++ init\n",
    "    kpp(points, cluster_centers)\n",
    "\n",
    "    lenpts10 = len(points) >> 10\n",
    "\n",
    "    changed = 0\n",
    "    while True:\n",
    "        # group element for centroids are used as counters\n",
    "        for cc in cluster_centers:\n",
    "            cc.x = 0\n",
    "            cc.y = 0\n",
    "            cc.group = 0\n",
    "\n",
    "        for p in points:\n",
    "            cluster_centers[p.group].group += 1\n",
    "            cluster_centers[p.group].x += p.x\n",
    "            cluster_centers[p.group].y += p.y\n",
    "\n",
    "        for cc in cluster_centers:\n",
    "            cc.x /= cc.group\n",
    "            cc.y /= cc.group\n",
    "\n",
    "        # find closest centroid of each PointPtr\n",
    "        changed = 0\n",
    "        for p in points:\n",
    "            min_i = nearest_cluster_center(p, cluster_centers)[0]\n",
    "            if min_i != p.group:\n",
    "                changed += 1\n",
    "                p.group = min_i\n",
    "\n",
    "        # stop when 99.9% of points are good\n",
    "        if changed <= lenpts10:\n",
    "            break\n",
    "\n",
    "    for i, cc in enumerate(cluster_centers):\n",
    "        cc.group = i\n",
    "\n",
    "    return cluster_centers\n",
    "\n",
    "def kmeans(points, nclusters):\n",
    "    cluster_centers = [copy(choice(points)) for _ in range(nclusters)]\n",
    "    lenpts10 = len(points) >> 10\n",
    "    changed = 0\n",
    "    while True:\n",
    "        for p in points:\n",
    "            cluster_centers[p.group].group += 1\n",
    "            cluster_centers[p.group].x += p.x\n",
    "            cluster_centers[p.group].y += p.y\n",
    "\n",
    "        for cc in cluster_centers:\n",
    "            #print cc.x,cc.y,cc.group\n",
    "            cc.x /= cc.group\n",
    "            cc.y /= cc.group\n",
    "        changed = 0\n",
    "        for p in points:\n",
    "            min_i = nearest_cluster_center(p, cluster_centers)[0]\n",
    "            if min_i != p.group:\n",
    "                changed += 1\n",
    "                p.group = min_i\n",
    "\n",
    "        # stop when 99.9% of points are good\n",
    "        if changed <= lenpts10:\n",
    "            break\n",
    "    for i, cc in enumerate(cluster_centers):\n",
    "        cc.group = i\n",
    "\n",
    "    return cluster_centers\n",
    "\n",
    "def print_eps(points, cluster_centers):\n",
    "\n",
    "    c = np.random.rand(len(cluster_centers)+1,3)\n",
    "    for i, cc in enumerate(cluster_centers):\n",
    "        plot_x = []\n",
    "        plot_y = []\n",
    "        print(cc.x,cc.y,cc.group)\n",
    "        for p in points:\n",
    "            if p.group != i:\n",
    "                continue\n",
    "            plot_x.append(p.x)\n",
    "            plot_y.append(p.y)\n",
    "        plt.scatter(plot_x,plot_y,color=c[i],s=1)\n",
    "        plt.scatter(cc.x,cc.y, color=c[len(c)-i-1], marker='^',s=50)\n",
    "    plt.show()\n",
    "\n",
    "\n",
    "def main():\n",
    "    npoints = 30000\n",
    "    k = 7 # # clusters\n",
    "\n",
    "    points = generate_points(npoints, 10)\n",
    "    cluster_centers = lloyd(points, k)\n",
    "    #cluster_centers = kmeans(points,k)\n",
    "    print_eps(points, cluster_centers)\n",
    "\n",
    "\n",
    "main()\n"
   ]
  },
  {
   "cell_type": "markdown",
   "metadata": {},
   "source": [
    "## 社区发现算法"
   ]
  },
  {
   "cell_type": "markdown",
   "metadata": {},
   "source": [
    "什么是社区(community structure)？\n",
    "* **同一社区内的节点与节点之间的连接很紧密，而社区与社区之间的连接比较稀疏**。"
   ]
  },
  {
   "cell_type": "markdown",
   "metadata": {},
   "source": [
    "设图G=G(V,E),所谓社区发现是指在图G中确定nc(>=1)个社区\n",
    "$$\n",
    "\\mathcal{C}=\\left\\{C_{1}, C_{2}, \\cdots, C_{n c}\\right\\}\n",
    "$$\n",
    "使得各社区的顶点集合构成V的一个覆盖。"
   ]
  },
  {
   "cell_type": "markdown",
   "metadata": {},
   "source": [
    "若任意两个社区的顶点集合的交集均为空，则称C为非重叠社区，否则称为重叠社区。"
   ]
  },
  {
   "cell_type": "markdown",
   "metadata": {},
   "source": [
    "<img src='721_community1.png'>"
   ]
  },
  {
   "cell_type": "markdown",
   "metadata": {},
   "source": [
    "<img src='721_community2.png'>"
   ]
  },
  {
   "cell_type": "markdown",
   "metadata": {},
   "source": [
    "## 社区发现算法"
   ]
  },
  {
   "cell_type": "markdown",
   "metadata": {},
   "source": [
    "### 社交网络算法应用场景\n",
    "* 在社交网络中社区圈子的识别（Community Detection）\n",
    "\n",
    "   Facebook/微信是基于朋友之间的强关系网络，有助于朋友之间的联系与关系维系\n",
    "   \n",
    "   Twitter/微博/豆瓣是基于单向关注的弱关系社交网络，有助于消息的传播和塑造意见领袖\n",
    "   \n",
    "   Linkedin是面向工作的职业社交网络，帮助商务交流与求职招聘。\n",
    "   \n",
    "### 基于好友关系为用户推荐商品或内容\n",
    "### 社交网络中人物影响力的计算\n",
    "### 信息在社交网络上的传播模型\n",
    "### 虚假信息和机器人账号的识别\n",
    "### 基于社交网络信息对股市、大选的预测\n",
    "### 互联网金融行业中的反欺诈预测"
   ]
  },
  {
   "cell_type": "markdown",
   "metadata": {},
   "source": [
    "一个具体的网络可抽象为一个由节点（vertex或node）集合V和边（edge）集合E组成的图G = (V, E)，节点数记为n = |V|，边数记为m = |E|。\n",
    "\n",
    "* 衡量指标：\n",
    "\n",
    "   度（degree）\n",
    "\n",
    "   密度（density）\n",
    "\n",
    "   团（clique）\n",
    "   \n",
    "   度中心性（degree centrality）\n",
    "   \n",
    "   紧密中心性（closeness centrality）\n",
    "   \n",
    "   介数中心性（betweenness centrality）\n",
    "   \n",
    "   聚集系数（clustering coefficient）"
   ]
  },
  {
   "cell_type": "markdown",
   "metadata": {},
   "source": [
    "### GN算法"
   ]
  },
  {
   "cell_type": "markdown",
   "metadata": {},
   "source": [
    "Betweeness of an edge: the total amount of flow it\n",
    "carries counting flow between all pairs of nodes\n",
    "using this edge\n",
    "\n",
    "* Divisive:remove edges with high betweenness"
   ]
  },
  {
   "cell_type": "markdown",
   "metadata": {},
   "source": [
    "<img src='721_GN.png'>"
   ]
  },
  {
   "cell_type": "markdown",
   "metadata": {},
   "source": [
    "### 社区评价指标-模块度Modularity"
   ]
  },
  {
   "cell_type": "markdown",
   "metadata": {},
   "source": [
    "<img src='721_Modu.png'>"
   ]
  },
  {
   "cell_type": "markdown",
   "metadata": {},
   "source": [
    "<img src='721_Modu2.png'>"
   ]
  },
  {
   "cell_type": "markdown",
   "metadata": {},
   "source": [
    "## 社区评价指标-Conductance"
   ]
  },
  {
   "cell_type": "markdown",
   "metadata": {},
   "source": [
    "<img src='721_Cond.png'>"
   ]
  },
  {
   "cell_type": "markdown",
   "metadata": {},
   "source": [
    "## Louvain算法"
   ]
  },
  {
   "cell_type": "markdown",
   "metadata": {},
   "source": [
    "Louvain method(Fast Unfolding): Finding communities in large networks. [Vincent Blondel et. al, 2008, Nature]\n",
    "\n",
    "https://sites.google.com/site/findcommunities/"
   ]
  },
  {
   "cell_type": "markdown",
   "metadata": {},
   "source": [
    "<img src='721_Louvain.png'>"
   ]
  },
  {
   "cell_type": "markdown",
   "metadata": {},
   "source": [
    "## LPA算法"
   ]
  },
  {
   "cell_type": "markdown",
   "metadata": {},
   "source": [
    "优点：\n",
    "* 不需要预先知识，不用预先给定社区的数量，\n",
    "* 可以控制迭代的次数来划分节点类别。\n",
    "* 可扩展性强，时间复杂度近线性，适合处理大规模复杂网络。"
   ]
  },
  {
   "cell_type": "markdown",
   "metadata": {},
   "source": [
    "<img src='721_LPA.png'>"
   ]
  },
  {
   "cell_type": "markdown",
   "metadata": {},
   "source": [
    "<img src='code_LPA.png'>"
   ]
  },
  {
   "cell_type": "code",
   "execution_count": null,
   "metadata": {},
   "outputs": [],
   "source": []
  },
  {
   "cell_type": "code",
   "execution_count": null,
   "metadata": {},
   "outputs": [],
   "source": []
  },
  {
   "cell_type": "code",
   "execution_count": null,
   "metadata": {},
   "outputs": [],
   "source": []
  }
 ],
 "metadata": {
  "kernelspec": {
   "display_name": "Python 3",
   "language": "python",
   "name": "python3"
  },
  "language_info": {
   "codemirror_mode": {
    "name": "ipython",
    "version": 3
   },
   "file_extension": ".py",
   "mimetype": "text/x-python",
   "name": "python",
   "nbconvert_exporter": "python",
   "pygments_lexer": "ipython3",
   "version": "3.7.2"
  }
 },
 "nbformat": 4,
 "nbformat_minor": 2
}
